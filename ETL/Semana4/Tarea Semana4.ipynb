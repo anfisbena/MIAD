{
 "cells": [
  {
   "cell_type": "markdown",
   "id": "e19acada",
   "metadata": {},
   "source": [
    "# Enunciado\n",
    "\n",
    "Tarea: ETL\n",
    "\n",
    "**Introducción**\n",
    "\n",
    "**Objetivo**\n",
    "\n",
    "Realizar un proceso ETL básico en Pyspark\n",
    "\n",
    "**¿Para qué?**\n",
    "\n",
    "Practicar lo aprendido en el tutorial de ETL\n",
    "\n",
    "**¿Qué necesita?**\n",
    "\n",
    "- Modelo multidimensional asociado al proceso de movimientos\n",
    "- Notebook para trabajar: puede usar la seccion 3 “Espacio para desarrollar la tarea” al final del notebook del tutorial para realizar esta actividad\n",
    "- Servidor SQL con base de datos relacional “WWImportersTransactional” y base de datos relacional que corresponde a la bodega de WWI de cada estudiante “Estudiante_i”\n",
    "\n",
    "**Enunciado**\n",
    "\n",
    "Ahora que sabe cómo realizar un proceso ETL, dado el modelo multidimensional del proceso de negocio de movimientos de inventario realice las siguientes actividades:\n",
    "\n",
    "**Entregable 1**  \n",
    "\n",
    "Diseño del ETL: Diseñe el ETL para las dimensiones proveedor, tipoTransaccion, fecha y para la tabla de hechos. A nivel de la tabla de proveedores incluya la tabla categoriasProveedores donde encuentra información de las categorías. El diseño del ETL es un diagrama como lo encuentra en la infografía de proceso ETL y puede observar en la siguiente figura. En el entregable utilice la siguiente <a href='https://miad-modelo-datos.github.io/guias_v1/Tareas/PlantillaDise%C3%B1oETL.xlsx'>plantilla para presentar el diseño de ETL</a> e incluya una descripción general que permita comprender detalles que pueden ser confusos.\n",
    "Diseño ETL tabla empleados\n",
    "<img src='DiseñoETL.png'>\n",
    "\n",
    "**Entregable 2**\n",
    "\n",
    "Implementación del ETL: implementación del proceso ETL para las dimensiones Proveedor, TipoTransaccion, Fecha y para la tabla de hechos. En el entregable incluya una descripción general que permita comprender el proceso de implementación del ETL.\n",
    "\n",
    "Note que para este proceso de negocio, las dimensiones Producto y Cliente son iguales a las del hecho Orden, este caso se conoce como dimensiones compartidas. Usted debe concentrarse en las dimensiones Proveedor, TipoTransaccion, Fecha y la tabla de hechos que no existen en la bodega de datos actualmente.\n",
    "\n",
    "Es importante que mantenga las tablas creadas para que los tutores puedan validar las tablas en el momento de calificar su tarea.\n",
    "\n",
    "WWImporters le comparte el modelo multidimensional que ha decido utilizar. Este modelo representa los movimientos(transacciones) que se hacen sobre el inventario de WWImporters. En particular, se observa que se tiene información de los tipos de transacciones, realizadas por un proveedor, relacionado con un cliente y un producto específico en una fecha determinada. En el modelo se dejan explícitos los dos tipos de identificadores que se crean a nivel de la bodega. el propio de la Bodega, (con el sufijo DWH) y el que viene de la fuente (con el sufijo T).\n",
    "\n",
    "Modelo movimientos\n",
    "\n",
    "<img src='Modelo movimiento.PNG'>\n",
    "\n",
    "Sobre los resultados del entendimiento de datos, Wide World Importers les comenta lo siguiente:\n",
    "\n",
    "- Cada fila representa una transacción o movimiento de productos en el inventario\n",
    "- Los días de pago no pueden ser negativos no tiene sentido para nuestro negocio. Por favor corregir multiplicando los datos negativos por -1.\n",
    "- Sobre la regla de negocio dada para la actividad de entendimiento de datos “La cantidad máxima de productos movidos es 50 millones por transaccion”, el negocio revisó y encontró que efectivamente gracias a los avances en su operación, ya puede mover más que la cantidad de 50 millones por transacción, por lo cual elimina esa regla de negocio.\n",
    "- La falta de datos antes del 2014 es un error de extracción de datos. Los nuevos datos incluyen este año.\n",
    "- Nuestro análisis concluye que la información que se ha duplicado totalmente no es útil. Por favor no tenerlos en cuenta.\n",
    "- “El formato de fechas manejado es YYYY-MM-DD HH:MM:SS si tienen hora, minutos y segundos. De lo contrario el formato es YYYY-MM-DD”: En cuanto a formatos de fechas estamos de acuerdo con que los estandarizemos y el formato sea el especificado en la regla de negocio.\n",
    "- Existen proveedores que tienen 2 filas una con un nombre y otra con el mismo nombre mas un “Inc” o “Ltd”. Unimos estos a un solo proveedor dado que se trató de un error de digitación.\n",
    "- El código postal igual para todos nuestros proveedores es un error que también fue corregido.\n",
    "- Cantidades negativas significan salidas de productos del inventario\n",
    "- El negocio indica que las tablas de categoriasProveedores y TiposTransaccion fueron analizadas previamente, por su grupo de consultores.\n",
    "\n",
    "Los datos revisados por el negocio quedan en las tablas Proveedores y movimientos y estos son los que deben utilizar en el proceso ETL. Por otra parte, en las tablas ProveedoresCopia y movimientosCopia quedan los datos con errores en caso de que deseen revisar/ejecutar el ejercicio que realizó de entendimiento de datos.\n",
    "\n",
    "**Recuerde**\n",
    "\n",
    "El diseño es fundamental y en particular el detalle de las transformaciones\n",
    "Dejar evidencia de las tablas creadas y pobladas en la base de datos que le fue asignada en el curso\n",
    "Entregar el notebook únicamente con la información solicitada en la tarea"
   ]
  },
  {
   "cell_type": "markdown",
   "id": "fe7a2c27",
   "metadata": {},
   "source": [
    "# Configuración e importe de paquetes\n",
    "\n",
    "Se utilizarán la librería pyspark para acceso a base de datos os para acceso al sistema operativo, datetime, pandas profile, matplotlib, numpy y missingno para el analisis descriptivo"
   ]
  },
  {
   "cell_type": "markdown",
   "id": "364f252b",
   "metadata": {},
   "source": [
    "**Librerias**"
   ]
  },
  {
   "cell_type": "code",
   "execution_count": 403,
   "id": "2a9051f5",
   "metadata": {},
   "outputs": [],
   "source": [
    "import os \n",
    "from pyspark.sql import functions as f, SparkSession, types as t\n",
    "from pyspark.sql.functions import when, col, date_format, weekofyear\n",
    "from pyspark import SparkContext, SparkConf, SQLContext\n",
    "from pyspark.sql.functions import udf, col, length, isnan, when, count, regexp_replace\n",
    "from datetime import datetime\n",
    "import pandas as pd"
   ]
  },
  {
   "cell_type": "markdown",
   "id": "42814c71",
   "metadata": {},
   "source": [
    "**Drivers y sesion**"
   ]
  },
  {
   "cell_type": "code",
   "execution_count": 404,
   "id": "9e8a2469",
   "metadata": {},
   "outputs": [],
   "source": [
    "#driver\n",
    "path_jar_driver = 'C:\\Program Files (x86)\\MySQL\\Connector J 8.0\\mysql-connector-java-8.0.28.jar'\n",
    "#sesion\n",
    "#Configuración de la sesión\n",
    "spark = SparkSession.builder \\\n",
    "    .appName(\"Mi Aplicación Spark\") \\\n",
    "    .config(\"spark.driver.extraClassPath\", path_jar_driver) \\\n",
    "    .getOrCreate()"
   ]
  },
  {
   "cell_type": "markdown",
   "id": "f4153a47",
   "metadata": {},
   "source": [
    "**Funciones a utilizar**"
   ]
  },
  {
   "cell_type": "code",
   "execution_count": 405,
   "id": "08f43741",
   "metadata": {},
   "outputs": [],
   "source": [
    "#Funciones a utilizar\n",
    "def obtener_dataframe_de_bd(db_connection_string, sql, db_user, db_psswd):\n",
    "    df_bd = spark.read.format('jdbc')\\\n",
    "        .option('url', db_connection_string) \\\n",
    "        .option('dbtable', sql) \\\n",
    "        .option('user', db_user) \\\n",
    "        .option('password', db_psswd) \\\n",
    "        .option('driver', 'com.mysql.cj.jdbc.Driver') \\\n",
    "        .load()\n",
    "    return df_bd\n",
    "\n",
    "def describir_data(tabla):\n",
    "    df=obtener_dataframe_de_bd(db_connection_string,tabla,db_user,db_psswd)\n",
    "    print(f'hay {df.count()} filas y estas poseen {len(df.columns)} variables \\n')    \n",
    "    print('A continuacion un ejemplo de los datos de la tabla \\n')\n",
    "    df.show(5)\n",
    "    print(f'Tipos de datos por columna \\n',df.dtypes,'\\n')\n",
    "    \n",
    "\n",
    "def guardar_db(db_connection_string, df, tabla, db_user, db_psswd):\n",
    "    df.select('*').write.format('jdbc') \\\n",
    "      .mode('append') \\\n",
    "      .option('url', db_connection_string) \\\n",
    "      .option('dbtable', tabla) \\\n",
    "      .option('user', db_user) \\\n",
    "      .option('password', db_psswd) \\\n",
    "      .option('driver', 'com.mysql.cj.jdbc.Driver') \\\n",
    "      .save()\n",
    "    \n",
    "borrar_duplicados=lambda x: x.dropDuplicates()"
   ]
  },
  {
   "cell_type": "markdown",
   "id": "16d61821",
   "metadata": {},
   "source": [
    "**Credenciales**"
   ]
  },
  {
   "cell_type": "code",
   "execution_count": 406,
   "id": "43e30ffd",
   "metadata": {},
   "outputs": [],
   "source": [
    "#Credenciales\n",
    "db_connection_string = 'jdbc:mysql://157.253.236.116:8080'\n",
    "# El usuario es su estudiante _i asignado y su contraseña la encontrará en el archivo excel de Coursera \n",
    "db_user = 'Estudiante_8_202315'\n",
    "db_psswd = 'aabb1122'\n",
    "\n",
    "PATH='./'"
   ]
  },
  {
   "cell_type": "markdown",
   "id": "6b0b3965",
   "metadata": {},
   "source": [
    "**Tablas**"
   ]
  },
  {
   "cell_type": "code",
   "execution_count": 407,
   "id": "234bd34a",
   "metadata": {},
   "outputs": [],
   "source": [
    "P_WWL='WWImportersTransactional.proveedores'\n",
    "CP_WWL='WWImportersTransactional.CategoriasProveedores'\n",
    "TT_WWL='WWImportersTransactional.TiposTransaccion'\n",
    "M_WWL='WWImportersTransactional.movimientos'\n",
    "PS_WWL='WWImportersTransactional.Personas'\n",
    "F_EST='Estudiante_8_202315.Fecha'\n",
    "P_EST='Estudiante_8_202315.Proveedor'\n",
    "HM_EST='Estudiante_8_202315.Hecho_Movimiento'\n",
    "TT_EST='Estudiante_8_202315.TipoTransaccion'"
   ]
  },
  {
   "cell_type": "markdown",
   "id": "e9164aa0",
   "metadata": {},
   "source": [
    "# Extraccion"
   ]
  },
  {
   "cell_type": "markdown",
   "id": "ce0e6886",
   "metadata": {},
   "source": [
    "**Proveedores y CategoriaProveedores**"
   ]
  },
  {
   "cell_type": "code",
   "execution_count": 430,
   "id": "b2e718d8",
   "metadata": {
    "scrolled": true
   },
   "outputs": [
    {
     "data": {
      "text/html": [
       "<div>\n",
       "<style scoped>\n",
       "    .dataframe tbody tr th:only-of-type {\n",
       "        vertical-align: middle;\n",
       "    }\n",
       "\n",
       "    .dataframe tbody tr th {\n",
       "        vertical-align: top;\n",
       "    }\n",
       "\n",
       "    .dataframe thead th {\n",
       "        text-align: right;\n",
       "    }\n",
       "</style>\n",
       "<table border=\"1\" class=\"dataframe\">\n",
       "  <thead>\n",
       "    <tr style=\"text-align: right;\">\n",
       "      <th></th>\n",
       "      <th>ID_proveedor_T</th>\n",
       "      <th>Nombre</th>\n",
       "      <th>Categoria</th>\n",
       "      <th>Contacto_principal</th>\n",
       "      <th>Referencia</th>\n",
       "      <th>Dias_pago</th>\n",
       "      <th>Codigo_postal</th>\n",
       "    </tr>\n",
       "  </thead>\n",
       "  <tbody>\n",
       "    <tr>\n",
       "      <th>0</th>\n",
       "      <td>1</td>\n",
       "      <td>A Datum Corporation</td>\n",
       "      <td>productos novedosos</td>\n",
       "      <td>Reio Kabin</td>\n",
       "      <td>AA20384</td>\n",
       "      <td>-14</td>\n",
       "      <td>46077</td>\n",
       "    </tr>\n",
       "    <tr>\n",
       "      <th>1</th>\n",
       "      <td>2</td>\n",
       "      <td>Contoso, Ltd.</td>\n",
       "      <td>productos novedosos</td>\n",
       "      <td>Hanna Mihhailov</td>\n",
       "      <td>B2084020</td>\n",
       "      <td>-7</td>\n",
       "      <td>98253</td>\n",
       "    </tr>\n",
       "    <tr>\n",
       "      <th>2</th>\n",
       "      <td>3</td>\n",
       "      <td>Consolidated Messenger</td>\n",
       "      <td>servicios de mensajeria</td>\n",
       "      <td>Kerstin Parn</td>\n",
       "      <td>209340283</td>\n",
       "      <td>-30</td>\n",
       "      <td>94101</td>\n",
       "    </tr>\n",
       "    <tr>\n",
       "      <th>3</th>\n",
       "      <td>4</td>\n",
       "      <td>Fabrikam, Inc.</td>\n",
       "      <td>ropa</td>\n",
       "      <td>Bill Lawson</td>\n",
       "      <td>293092</td>\n",
       "      <td>30</td>\n",
       "      <td>40351</td>\n",
       "    </tr>\n",
       "    <tr>\n",
       "      <th>4</th>\n",
       "      <td>5</td>\n",
       "      <td>Graphic Design Institute</td>\n",
       "      <td>productos novedosos</td>\n",
       "      <td>Penny Buck</td>\n",
       "      <td>08803922</td>\n",
       "      <td>14</td>\n",
       "      <td>64847</td>\n",
       "    </tr>\n",
       "    <tr>\n",
       "      <th>5</th>\n",
       "      <td>6</td>\n",
       "      <td>Humongous Insurance</td>\n",
       "      <td>servicios de seguros</td>\n",
       "      <td>Madelaine  Cartier</td>\n",
       "      <td>082420938</td>\n",
       "      <td>-14</td>\n",
       "      <td>37770</td>\n",
       "    </tr>\n",
       "    <tr>\n",
       "      <th>6</th>\n",
       "      <td>7</td>\n",
       "      <td>Litware, Inc.</td>\n",
       "      <td>embalaje</td>\n",
       "      <td>Elias Myllari</td>\n",
       "      <td>BC0280982</td>\n",
       "      <td>30</td>\n",
       "      <td>95245</td>\n",
       "    </tr>\n",
       "    <tr>\n",
       "      <th>7</th>\n",
       "      <td>8</td>\n",
       "      <td>Lucerne Publishing</td>\n",
       "      <td>productos novedosos</td>\n",
       "      <td>Prem Prabhu</td>\n",
       "      <td>JQ082304802</td>\n",
       "      <td>-30</td>\n",
       "      <td>37659</td>\n",
       "    </tr>\n",
       "    <tr>\n",
       "      <th>8</th>\n",
       "      <td>9</td>\n",
       "      <td>Nod Publishers</td>\n",
       "      <td>productos novedosos</td>\n",
       "      <td>Marcos Costa</td>\n",
       "      <td>GL08029802</td>\n",
       "      <td>7</td>\n",
       "      <td>27906</td>\n",
       "    </tr>\n",
       "    <tr>\n",
       "      <th>9</th>\n",
       "      <td>10</td>\n",
       "      <td>Northwind Electric Cars</td>\n",
       "      <td>juguetes</td>\n",
       "      <td>Eliza Soderberg</td>\n",
       "      <td>ML0300202</td>\n",
       "      <td>30</td>\n",
       "      <td>7860</td>\n",
       "    </tr>\n",
       "    <tr>\n",
       "      <th>10</th>\n",
       "      <td>11</td>\n",
       "      <td>Trey Research</td>\n",
       "      <td>servicios de marketing</td>\n",
       "      <td>Donald Jones</td>\n",
       "      <td>082304822</td>\n",
       "      <td>-7</td>\n",
       "      <td>57543</td>\n",
       "    </tr>\n",
       "    <tr>\n",
       "      <th>11</th>\n",
       "      <td>12</td>\n",
       "      <td>The Phone Company</td>\n",
       "      <td>productos novedosos</td>\n",
       "      <td>Hai Dam</td>\n",
       "      <td>237408032</td>\n",
       "      <td>30</td>\n",
       "      <td>56732</td>\n",
       "    </tr>\n",
       "    <tr>\n",
       "      <th>12</th>\n",
       "      <td>13</td>\n",
       "      <td>Woodgrove Bank</td>\n",
       "      <td>servicios financieros</td>\n",
       "      <td>Hubert Helms</td>\n",
       "      <td>028034202</td>\n",
       "      <td>7</td>\n",
       "      <td>94101</td>\n",
       "    </tr>\n",
       "  </tbody>\n",
       "</table>\n",
       "</div>"
      ],
      "text/plain": [
       "    ID_proveedor_T                    Nombre                Categoria  \\\n",
       "0                1       A Datum Corporation      productos novedosos   \n",
       "1                2             Contoso, Ltd.      productos novedosos   \n",
       "2                3    Consolidated Messenger  servicios de mensajeria   \n",
       "3                4            Fabrikam, Inc.                     ropa   \n",
       "4                5  Graphic Design Institute      productos novedosos   \n",
       "5                6       Humongous Insurance     servicios de seguros   \n",
       "6                7             Litware, Inc.                 embalaje   \n",
       "7                8        Lucerne Publishing      productos novedosos   \n",
       "8                9            Nod Publishers      productos novedosos   \n",
       "9               10   Northwind Electric Cars                 juguetes   \n",
       "10              11             Trey Research   servicios de marketing   \n",
       "11              12         The Phone Company      productos novedosos   \n",
       "12              13            Woodgrove Bank    servicios financieros   \n",
       "\n",
       "    Contacto_principal   Referencia  Dias_pago  Codigo_postal  \n",
       "0           Reio Kabin      AA20384        -14          46077  \n",
       "1      Hanna Mihhailov     B2084020         -7          98253  \n",
       "2         Kerstin Parn    209340283        -30          94101  \n",
       "3          Bill Lawson       293092         30          40351  \n",
       "4           Penny Buck     08803922         14          64847  \n",
       "5   Madelaine  Cartier    082420938        -14          37770  \n",
       "6        Elias Myllari    BC0280982         30          95245  \n",
       "7          Prem Prabhu  JQ082304802        -30          37659  \n",
       "8         Marcos Costa   GL08029802          7          27906  \n",
       "9      Eliza Soderberg    ML0300202         30           7860  \n",
       "10        Donald Jones    082304822         -7          57543  \n",
       "11             Hai Dam    237408032         30          56732  \n",
       "12        Hubert Helms    028034202          7          94101  "
      ]
     },
     "execution_count": 430,
     "metadata": {},
     "output_type": "execute_result"
    }
   ],
   "source": [
    "query=f'(SELECT P.ProveedorID ID_proveedor_T,P.NombreProveedor Nombre,CP.CategoriaProveedor Categoria,PS.NombreCompleto Contacto_principal,P.ReferenciaProveedor Referencia,P.DiasPago Dias_pago,P.CodigoPostal Codigo_postal FROM {P_WWL} P INNER JOIN {CP_WWL} CP ON P.CategoriaProveedorID=CP.CategoriaProveedorID INNER JOIN {PS_WWL} PS ON PersonaContactoPrincipalID=ID_persona) AS dataset'\n",
    "df_p=obtener_dataframe_de_bd(db_connection_string,query,db_user,db_psswd)\n",
    "df_p.toPandas()\n"
   ]
  },
  {
   "cell_type": "markdown",
   "id": "963e7a27",
   "metadata": {},
   "source": [
    "**TipoTransaccion**"
   ]
  },
  {
   "cell_type": "code",
   "execution_count": 440,
   "id": "b1db25ce",
   "metadata": {
    "scrolled": false
   },
   "outputs": [
    {
     "name": "stdout",
     "output_type": "stream",
     "text": [
      "+---------------------+--------------------+\n",
      "|ID_Tipo_transaccion_T|                Tipo|\n",
      "+---------------------+--------------------+\n",
      "|                    2|Customer Credit Note|\n",
      "|                    3|Customer Payment ...|\n",
      "|                    4|     Customer Refund|\n",
      "|                    5|    Supplier Invoice|\n",
      "|                    6|Supplier Credit Note|\n",
      "|                    7|Supplier Payment ...|\n",
      "|                    8|     Supplier Refund|\n",
      "|                    9|      Stock Transfer|\n",
      "|                   10|         Stock Issue|\n",
      "|                   11|       Stock Receipt|\n",
      "|                   12|Stock Adjustment ...|\n",
      "|                   13|     Customer Contra|\n",
      "+---------------------+--------------------+\n",
      "\n"
     ]
    }
   ],
   "source": [
    "query=f'(SELECT TipoTransaccionID ID_Tipo_transaccion_T,TipoTransaccionNombre Tipo FROM {TT_WWL}) AS dataset'\n",
    "df_tt=obtener_dataframe_de_bd(db_connection_string,query,db_user,db_psswd)\n",
    "df_tt.show()"
   ]
  },
  {
   "cell_type": "markdown",
   "id": "cf998683",
   "metadata": {},
   "source": [
    "**Fecha**"
   ]
  },
  {
   "cell_type": "code",
   "execution_count": 410,
   "id": "43cfed22",
   "metadata": {
    "scrolled": false
   },
   "outputs": [
    {
     "name": "stdout",
     "output_type": "stream",
     "text": [
      "+----------------+\n",
      "|FechaTransaccion|\n",
      "+----------------+\n",
      "|      2014-01-20|\n",
      "|      2014-01-28|\n",
      "|      2014-01-28|\n",
      "|      2014-01-28|\n",
      "|      2014-01-28|\n",
      "|      2014-02-01|\n",
      "|      2014-02-01|\n",
      "|      2014-03-25|\n",
      "|      2014-03-25|\n",
      "|      2014-03-25|\n",
      "|      2014-03-25|\n",
      "|      2014-03-25|\n",
      "|      2014-03-25|\n",
      "|      2014-03-25|\n",
      "|      2014-03-25|\n",
      "|      2014-03-25|\n",
      "|      2014-03-25|\n",
      "|      2014-03-25|\n",
      "|      2014-03-25|\n",
      "|      2014-03-25|\n",
      "+----------------+\n",
      "only showing top 20 rows\n",
      "\n"
     ]
    }
   ],
   "source": [
    "df_f=df_m.select('FechaTransaccion').show()"
   ]
  },
  {
   "cell_type": "markdown",
   "id": "2361188a",
   "metadata": {},
   "source": [
    "**Hecho_Movimiento**"
   ]
  },
  {
   "cell_type": "code",
   "execution_count": 411,
   "id": "6c20312a",
   "metadata": {
    "scrolled": false
   },
   "outputs": [
    {
     "name": "stdout",
     "output_type": "stream",
     "text": [
      "+----------+-----------+---------+-----------------+----------------+--------+\n",
      "|ProductoID|ProveedorID|ClienteID|TipoTransaccionID|FechaTransaccion|Cantidad|\n",
      "+----------+-----------+---------+-----------------+----------------+--------+\n",
      "|       108|           |    185.0|               10|     Jan 20,2014|   -10.0|\n",
      "|       162|           |    176.0|               10|     Jan 28,2014|   -10.0|\n",
      "|       216|           |    474.0|               10|     Jan 28,2014|   -10.0|\n",
      "|        22|           |    901.0|               10|     Jan 28,2014|   -10.0|\n",
      "|        25|           |    926.0|               10|     Jan 28,2014|   -10.0|\n",
      "|        14|           |    444.0|               10|     Feb 01,2014|   -10.0|\n",
      "|        75|           |    168.0|               10|     Feb 01,2014|   -10.0|\n",
      "|        20|           |    802.0|               10|     Mar 25,2014|   -10.0|\n",
      "|        65|           |    975.0|               10|     Mar 25,2014|   -10.0|\n",
      "|       130|           |    487.0|               10|     Mar 25,2014|   -10.0|\n",
      "|       171|           |    129.0|               10|     Mar 25,2014|   -10.0|\n",
      "|       118|           |    129.0|               10|     Mar 25,2014|   -10.0|\n",
      "|       168|           |    802.0|               10|     Mar 25,2014|   -10.0|\n",
      "|        52|           |     88.0|               10|     Mar 25,2014|   -10.0|\n",
      "|       131|           |    591.0|               10|     Mar 25,2014|   -10.0|\n",
      "|       171|           |    420.0|               10|     Mar 25,2014|   -10.0|\n",
      "|       105|           |    433.0|               10|     Mar 25,2014|   -10.0|\n",
      "|       112|           |   1027.0|               10|     Mar 25,2014|   -10.0|\n",
      "|       170|           |    593.0|               10|     Mar 25,2014|   -10.0|\n",
      "|       132|           |    601.0|               10|     Mar 25,2014|   -10.0|\n",
      "+----------+-----------+---------+-----------------+----------------+--------+\n",
      "only showing top 20 rows\n",
      "\n"
     ]
    }
   ],
   "source": [
    "query=f'(SELECT ProductoID,ProveedorID,ClienteID,TipoTransaccionID,FechaTransaccion,Cantidad FROM {M_WWL}) AS dataset'\n",
    "df_m=obtener_dataframe_de_bd(db_connection_string,query,db_user,db_psswd)\n",
    "df_m.show()"
   ]
  },
  {
   "cell_type": "markdown",
   "id": "314a01be",
   "metadata": {},
   "source": [
    "# Validacion de reglas de negocio"
   ]
  },
  {
   "cell_type": "markdown",
   "id": "82d8e607",
   "metadata": {},
   "source": [
    "## Dias de pago\n",
    "\n",
    "Los días de pago no pueden ser negativos no tiene sentido para nuestro negocio. Por favor corregir multiplicando los datos negativos por -1."
   ]
  },
  {
   "cell_type": "code",
   "execution_count": 431,
   "id": "a89c2415",
   "metadata": {
    "scrolled": false
   },
   "outputs": [
    {
     "name": "stdout",
     "output_type": "stream",
     "text": [
      "se encuentran 6 valores negativos\n",
      "+--------------+--------------------+--------------------+------------------+-----------+---------+-------------+\n",
      "|ID_proveedor_T|              Nombre|           Categoria|Contacto_principal| Referencia|Dias_pago|Codigo_postal|\n",
      "+--------------+--------------------+--------------------+------------------+-----------+---------+-------------+\n",
      "|             1| A Datum Corporation| productos novedosos|        Reio Kabin|    AA20384|      -14|        46077|\n",
      "|             2|       Contoso, Ltd.| productos novedosos|   Hanna Mihhailov|   B2084020|       -7|        98253|\n",
      "|             3|Consolidated Mess...|servicios de mens...|      Kerstin Parn|  209340283|      -30|        94101|\n",
      "|             6| Humongous Insurance|servicios de seguros|Madelaine  Cartier|  082420938|      -14|        37770|\n",
      "|             8|  Lucerne Publishing| productos novedosos|       Prem Prabhu|JQ082304802|      -30|        37659|\n",
      "|            11|       Trey Research|servicios de mark...|      Donald Jones|  082304822|       -7|        57543|\n",
      "+--------------+--------------------+--------------------+------------------+-----------+---------+-------------+\n",
      "\n"
     ]
    }
   ],
   "source": [
    "df_p_negativo=df_p.filter(df_p.Dias_pago<=0)\n",
    "print(f'se encuentran {df_p_negativo.count()} valores negativos')\n",
    "df_p_negativo.show()"
   ]
  },
  {
   "cell_type": "markdown",
   "id": "2f61aeca",
   "metadata": {},
   "source": [
    "Efectivamente se encuentran algunos valores negativos, por lo que se procede a cambiar los valores del df para que coincidan"
   ]
  },
  {
   "cell_type": "code",
   "execution_count": 432,
   "id": "9cbd0264",
   "metadata": {},
   "outputs": [
    {
     "name": "stdout",
     "output_type": "stream",
     "text": [
      "se encuentran 0 valores negativos\n",
      "+--------------+------+---------+------------------+----------+---------+-------------+\n",
      "|ID_proveedor_T|Nombre|Categoria|Contacto_principal|Referencia|Dias_pago|Codigo_postal|\n",
      "+--------------+------+---------+------------------+----------+---------+-------------+\n",
      "+--------------+------+---------+------------------+----------+---------+-------------+\n",
      "\n"
     ]
    }
   ],
   "source": [
    "df_p = df_p.withColumn('Dias_pago', when(col('Dias_pago') < 0, col('Dias_pago') / -1).otherwise(col('Dias_pago')))\n",
    "\n",
    "validacion_df_p_negativo=df_p.filter(df_p.Dias_pago<=0)\n",
    "print(f'se encuentran {validacion_df_p_negativo.count()} valores negativos')\n",
    "validacion_df_p_negativo.show()"
   ]
  },
  {
   "cell_type": "markdown",
   "id": "e87f6436",
   "metadata": {},
   "source": [
    "## Proveedores con categorias nulas"
   ]
  },
  {
   "cell_type": "markdown",
   "id": "b7c4bf48",
   "metadata": {},
   "source": [
    "Se valida que no existan valores nulos o vacios en la categoríaProveedorID, anteriormente se valido solo en la tabla proveedores, luego se hizo un join de informacion"
   ]
  },
  {
   "cell_type": "code",
   "execution_count": 433,
   "id": "75332387",
   "metadata": {
    "scrolled": false
   },
   "outputs": [
    {
     "data": {
      "text/html": [
       "<div>\n",
       "<style scoped>\n",
       "    .dataframe tbody tr th:only-of-type {\n",
       "        vertical-align: middle;\n",
       "    }\n",
       "\n",
       "    .dataframe tbody tr th {\n",
       "        vertical-align: top;\n",
       "    }\n",
       "\n",
       "    .dataframe thead th {\n",
       "        text-align: right;\n",
       "    }\n",
       "</style>\n",
       "<table border=\"1\" class=\"dataframe\">\n",
       "  <thead>\n",
       "    <tr style=\"text-align: right;\">\n",
       "      <th></th>\n",
       "      <th>CPID</th>\n",
       "      <th>Categoria_Proveedor</th>\n",
       "    </tr>\n",
       "  </thead>\n",
       "  <tbody>\n",
       "    <tr>\n",
       "      <th>0</th>\n",
       "      <td>4</td>\n",
       "      <td>ropa</td>\n",
       "    </tr>\n",
       "    <tr>\n",
       "      <th>1</th>\n",
       "      <td>2</td>\n",
       "      <td>productos novedosos</td>\n",
       "    </tr>\n",
       "    <tr>\n",
       "      <th>2</th>\n",
       "      <td>5</td>\n",
       "      <td>embalaje</td>\n",
       "    </tr>\n",
       "    <tr>\n",
       "      <th>3</th>\n",
       "      <td>3</td>\n",
       "      <td>juguetes</td>\n",
       "    </tr>\n",
       "    <tr>\n",
       "      <th>4</th>\n",
       "      <td>7</td>\n",
       "      <td>servicios financieros</td>\n",
       "    </tr>\n",
       "    <tr>\n",
       "      <th>5</th>\n",
       "      <td>9</td>\n",
       "      <td>servicios de seguros</td>\n",
       "    </tr>\n",
       "    <tr>\n",
       "      <th>6</th>\n",
       "      <td>8</td>\n",
       "      <td>servicios de marketing</td>\n",
       "    </tr>\n",
       "    <tr>\n",
       "      <th>7</th>\n",
       "      <td>6</td>\n",
       "      <td>servicios de mensajeria</td>\n",
       "    </tr>\n",
       "  </tbody>\n",
       "</table>\n",
       "</div>"
      ],
      "text/plain": [
       "   CPID      Categoria_Proveedor\n",
       "0     4                     ropa\n",
       "1     2      productos novedosos\n",
       "2     5                 embalaje\n",
       "3     3                 juguetes\n",
       "4     7    servicios financieros\n",
       "5     9     servicios de seguros\n",
       "6     8   servicios de marketing\n",
       "7     6  servicios de mensajeria"
      ]
     },
     "execution_count": 433,
     "metadata": {},
     "output_type": "execute_result"
    }
   ],
   "source": [
    "query=f'(SELECT DISTINCT P.CategoriaProveedorID CPID, CP.CategoriaProveedor Categoria_Proveedor FROM {P_WWL} P INNER JOIN {CP_WWL} CP ON P.CategoriaProveedorID=CP.CategoriaProveedorID) AS dataset'\n",
    "df=obtener_dataframe_de_bd(db_connection_string,query,db_user,db_psswd)\n",
    "df.toPandas()"
   ]
  },
  {
   "cell_type": "markdown",
   "id": "3620f966",
   "metadata": {},
   "source": [
    "## Datos antes del 2014"
   ]
  },
  {
   "cell_type": "markdown",
   "id": "bfe7a80a",
   "metadata": {},
   "source": [
    "Se validan que no existan datos antes del 2014"
   ]
  },
  {
   "cell_type": "code",
   "execution_count": 415,
   "id": "3300dd3d",
   "metadata": {
    "scrolled": true
   },
   "outputs": [
    {
     "name": "stdout",
     "output_type": "stream",
     "text": [
      "+---------------------+\n",
      "|min(FechaTransaccion)|\n",
      "+---------------------+\n",
      "| 2013-01-01 12:00:...|\n",
      "+---------------------+\n",
      "\n"
     ]
    }
   ],
   "source": [
    "df_m.agg({'FechaTransaccion': \"min\"}).show()"
   ]
  },
  {
   "cell_type": "markdown",
   "id": "edc9dc2c",
   "metadata": {},
   "source": [
    "Aca se debe entender si los datos deben estar hasta el 2014 o se permiten otros datos anteriores"
   ]
  },
  {
   "cell_type": "markdown",
   "id": "2707df68",
   "metadata": {},
   "source": [
    "## Duplicados totales se deben eliminar"
   ]
  },
  {
   "cell_type": "markdown",
   "id": "cc5a3e8c",
   "metadata": {},
   "source": [
    "Se validan duplicados totales por tabla"
   ]
  },
  {
   "cell_type": "code",
   "execution_count": 418,
   "id": "3d947887",
   "metadata": {
    "scrolled": false
   },
   "outputs": [
    {
     "name": "stdout",
     "output_type": "stream",
     "text": [
      "Total datos en Proveedores 13, Vs total datos unicos 13\n",
      "Total datos en TipoTransaccion 12, Vs total datos unicos 12\n",
      "Total datos en Movimiento 267300, Vs total datos unicos 236656\n"
     ]
    }
   ],
   "source": [
    "print(f'Total datos en Proveedores {df_p.count()}, Vs total datos unicos {df_p.distinct().count()}')\n",
    "print(f'Total datos en TipoTransaccion {df_tt.count()}, Vs total datos unicos {df_tt.distinct().count()}')\n",
    "print(f'Total datos en Movimiento {df_m.count()}, Vs total datos unicos {df_m.distinct().count()}')"
   ]
  },
  {
   "cell_type": "markdown",
   "id": "4f66b592",
   "metadata": {},
   "source": [
    "Se identifican datos duplicados en la tabla Movimientos, luego de proceder a depurar, siguen consistentes, por lo que se recomienda analizar la variable df_duplicados que lo contiene."
   ]
  },
  {
   "cell_type": "code",
   "execution_count": 419,
   "id": "9392cb91",
   "metadata": {
    "scrolled": true
   },
   "outputs": [
    {
     "name": "stdout",
     "output_type": "stream",
     "text": [
      "Total datos en Movimiento 267300, Vs total datos unicos 236656\n"
     ]
    }
   ],
   "source": [
    "borrar_duplicados(df_m)\n",
    "print(f'Total datos en Movimiento {df_m.count()}, Vs total datos unicos {df_m.distinct().count()}')"
   ]
  },
  {
   "cell_type": "code",
   "execution_count": 420,
   "id": "b083aea9",
   "metadata": {
    "scrolled": true
   },
   "outputs": [
    {
     "name": "stdout",
     "output_type": "stream",
     "text": [
      "+----------+-----------+---------+-----------------+--------------------+--------+\n",
      "|ProductoID|ProveedorID|ClienteID|TipoTransaccionID|    FechaTransaccion|Cantidad|\n",
      "+----------+-----------+---------+-----------------+--------------------+--------+\n",
      "|       153|           |    988.0|               10|2013-01-19 12:00:...|   -10.0|\n",
      "|       138|           |    910.0|               10|2013-02-01 12:00:...|   -12.0|\n",
      "|       102|           |    850.0|               10|2013-02-14 12:00:...|    -2.0|\n",
      "|       120|           |    535.0|               10|2013-06-04 12:00:...|    -1.0|\n",
      "|         6|           |    444.0|               10|2013-06-24 12:00:...|    -1.0|\n",
      "|       199|           |    901.0|               10|2013-12-31 12:00:...|   -96.0|\n",
      "|        85|           |    976.0|               10|2013-12-31 12:00:...|   -12.0|\n",
      "|       192|           |    569.0|               10|2013-12-31 12:00:...|  -144.0|\n",
      "|       168|           |    139.0|               10|2013-12-31 12:00:...|   -70.0|\n",
      "|       139|           |    103.0|               10|2013-12-31 12:00:...|   -24.0|\n",
      "|       143|           |    195.0|               10|2013-12-31 12:00:...|   -84.0|\n",
      "|       156|           |    548.0|               10|2013-12-31 12:00:...|  -100.0|\n",
      "|         5|           |    451.0|               10|2013-12-31 12:00:...|    -1.0|\n",
      "|        16|           |    832.0|               10|2013-12-31 12:00:...|   -10.0|\n",
      "|       104|           |    849.0|               10|2013-12-31 12:00:...|    -6.0|\n",
      "|        34|           |    141.0|               10|2013-12-31 12:00:...|    -4.0|\n",
      "|       118|           |    139.0|               10|2013-12-31 12:00:...|    -4.0|\n",
      "|        88|           |    446.0|               10|2013-12-31 12:00:...|   -96.0|\n",
      "|        14|           |    861.0|               10|2013-12-31 12:00:...|    -6.0|\n",
      "|        76|           |    929.0|               10|2013-12-31 12:00:...|   -12.0|\n",
      "+----------+-----------+---------+-----------------+--------------------+--------+\n",
      "only showing top 20 rows\n",
      "\n"
     ]
    }
   ],
   "source": [
    "df_duplicados = df_m.exceptAll(df_m.distinct())\n",
    "df_duplicados.orderBy(\"FechaTransaccion\").show()"
   ]
  },
  {
   "cell_type": "markdown",
   "id": "4b1913f9",
   "metadata": {},
   "source": [
    "## Validacion de fechas"
   ]
  },
  {
   "cell_type": "markdown",
   "id": "bb972d39",
   "metadata": {},
   "source": [
    "**Hecho_Movimientos**\n",
    "\n",
    "Se identifican 3 formatos de fecha tal como se identifica en las reglas de negocio, se cambian todas aquellas en formato ingles a formato YYYY-MM-DD como se pide, asi mismo aquellas en formato datetime se pasa a YYYY-MM-DD para estandarizar la unidad"
   ]
  },
  {
   "cell_type": "code",
   "execution_count": 421,
   "id": "6be2da77",
   "metadata": {
    "scrolled": true
   },
   "outputs": [
    {
     "name": "stdout",
     "output_type": "stream",
     "text": [
      "64254 203046\n",
      "+----------+-----------+---------+-----------------+----------------+--------+\n",
      "|ProductoID|ProveedorID|ClienteID|TipoTransaccionID|FechaTransaccion|Cantidad|\n",
      "+----------+-----------+---------+-----------------+----------------+--------+\n",
      "|       108|           |    185.0|               10|     Jan 20,2014|   -10.0|\n",
      "|       162|           |    176.0|               10|     Jan 28,2014|   -10.0|\n",
      "|       216|           |    474.0|               10|     Jan 28,2014|   -10.0|\n",
      "|        22|           |    901.0|               10|     Jan 28,2014|   -10.0|\n",
      "|        25|           |    926.0|               10|     Jan 28,2014|   -10.0|\n",
      "+----------+-----------+---------+-----------------+----------------+--------+\n",
      "only showing top 5 rows\n",
      "\n",
      "None\n"
     ]
    },
    {
     "data": {
      "text/plain": [
       "(64254, 267300)"
      ]
     },
     "execution_count": 421,
     "metadata": {},
     "output_type": "execute_result"
    }
   ],
   "source": [
    "# regexYMDHMS=\"([0-9]{4}-(0[1-9]|1[0-2])-(0[1-9]|[1-2][0-9]|3[0-1]) (2[0-3]|[0-1][0-9]):[0-5][0-9]:[0-5][0-9])\"\n",
    "regexYMD=\"([0-9]{4}-(0[1-9]|1[0-2])-(0[1-9]|[1-2][0-9]|3[0-1]))\"\n",
    "cumplenFormato = df_m.filter(df_m[\"FechaTransaccion\"].rlike(regexYMD))\n",
    "noCumplenFormato = df_m.filter(~df_m[\"FechaTransaccion\"].rlike(regexYMD))\n",
    "print(noCumplenFormato.count(), cumplenFormato.count())\n",
    "print(noCumplenFormato.show(5))\n",
    "noCumplenFormato = noCumplenFormato.withColumn('FechaTransaccion', f.udf(lambda d: datetime.strptime(d, '%b %d,%Y').strftime('%Y-%m-%d'), t.StringType())(f.col('FechaTransaccion')))\n",
    "df_m = noCumplenFormato.union(cumplenFormato)\n",
    "noCumplenFormato.count(), ordenes.count()"
   ]
  },
  {
   "cell_type": "markdown",
   "id": "6b63373e",
   "metadata": {},
   "source": [
    "## Proveedores con nombres de 2 filas\n",
    "\n",
    "Primero se borraran todos los nombres que contengan simbolos como \".\" y \",\".\n",
    "Luego se buscaran todos los items que posean Inc y Ltd y se borraran tambien\n",
    "Despues se verificarán repetidos y se borraran, reemplazando la llave primaria en las foraneas viejas"
   ]
  },
  {
   "cell_type": "code",
   "execution_count": 434,
   "id": "fa713f74",
   "metadata": {},
   "outputs": [
    {
     "name": "stdout",
     "output_type": "stream",
     "text": [
      "+--------------+--------------+-------------------+------------------+----------+---------+-------------+\n",
      "|ID_proveedor_T|        Nombre|          Categoria|Contacto_principal|Referencia|Dias_pago|Codigo_postal|\n",
      "+--------------+--------------+-------------------+------------------+----------+---------+-------------+\n",
      "|             2| Contoso, Ltd.|productos novedosos|   Hanna Mihhailov|  B2084020|      7.0|        98253|\n",
      "|             4|Fabrikam, Inc.|               ropa|       Bill Lawson|    293092|     30.0|        40351|\n",
      "|             7| Litware, Inc.|           embalaje|     Elias Myllari| BC0280982|     30.0|        95245|\n",
      "+--------------+--------------+-------------------+------------------+----------+---------+-------------+\n",
      "\n",
      "+--------------+--------------+---------+------------------+----------+---------+-------------+\n",
      "|ID_proveedor_T|        Nombre|Categoria|Contacto_principal|Referencia|Dias_pago|Codigo_postal|\n",
      "+--------------+--------------+---------+------------------+----------+---------+-------------+\n",
      "|             4|Fabrikam, Inc.|     ropa|       Bill Lawson|    293092|     30.0|        40351|\n",
      "+--------------+--------------+---------+------------------+----------+---------+-------------+\n",
      "\n",
      "+--------------+-------------+---------+------------------+----------+---------+-------------+\n",
      "|ID_proveedor_T|       Nombre|Categoria|Contacto_principal|Referencia|Dias_pago|Codigo_postal|\n",
      "+--------------+-------------+---------+------------------+----------+---------+-------------+\n",
      "|             7|Litware, Inc.| embalaje|     Elias Myllari| BC0280982|     30.0|        95245|\n",
      "+--------------+-------------+---------+------------------+----------+---------+-------------+\n",
      "\n",
      "+--------------+-------------+-------------------+------------------+----------+---------+-------------+\n",
      "|ID_proveedor_T|       Nombre|          Categoria|Contacto_principal|Referencia|Dias_pago|Codigo_postal|\n",
      "+--------------+-------------+-------------------+------------------+----------+---------+-------------+\n",
      "|             2|Contoso, Ltd.|productos novedosos|   Hanna Mihhailov|  B2084020|      7.0|        98253|\n",
      "+--------------+-------------+-------------------+------------------+----------+---------+-------------+\n",
      "\n"
     ]
    }
   ],
   "source": [
    "proveedores_con_coma=df_p.filter(\n",
    "    df_p[\"Nombre\"].contains('Inc') | \n",
    "    df_p[\"Nombre\"].contains('Ltd') |\n",
    "    df_p[\"Nombre\"].contains('.')   |\n",
    "    df_p[\"Nombre\"].contains(',') \n",
    ")\n",
    "p_Fabrikam=df_p.filter(df_p['Nombre'].contains('Fabrikam'))\n",
    "p_Litware=df_p.filter(df_p['Nombre'].contains('Litware'))\n",
    "p_Contoso=df_p.filter(df_p['Nombre'].contains('Contoso'))\n",
    "\n",
    "#Muestra el DataFrame resultante.\n",
    "proveedores_con_coma.show()\n",
    "p_Fabrikam.show()\n",
    "p_Litware.show()\n",
    "p_Contoso.show()"
   ]
  },
  {
   "cell_type": "markdown",
   "id": "b3cae5bc",
   "metadata": {},
   "source": [
    "Se identificaron 3 nombres con Inc y Ltd que solo poseen un record por lo que se proceden a reemplazar para cumplir la regla del negocio"
   ]
  },
  {
   "cell_type": "code",
   "execution_count": 423,
   "id": "eb1a276f",
   "metadata": {},
   "outputs": [
    {
     "name": "stdout",
     "output_type": "stream",
     "text": [
      "+--------------+------+---------+------------------+----------+---------+-------------+\n",
      "|ID_proveedor_T|Nombre|Categoria|Contacto_principal|Referencia|Dias_pago|Codigo_postal|\n",
      "+--------------+------+---------+------------------+----------+---------+-------------+\n",
      "+--------------+------+---------+------------------+----------+---------+-------------+\n",
      "\n"
     ]
    }
   ],
   "source": [
    "df_p = df_p.withColumn('Nombre', regexp_replace('Nombre', ', Inc.', ''))\n",
    "df_p = df_p.withColumn('Nombre', regexp_replace('Nombre', ', Ltd.', ''))\n",
    "df_p.filter(\n",
    "    df_p[\"Nombre\"].contains('Inc') | \n",
    "    df_p[\"Nombre\"].contains('Ltd') |\n",
    "    df_p[\"Nombre\"].contains('.')   |\n",
    "    df_p[\"Nombre\"].contains(',') \n",
    ").show()"
   ]
  },
  {
   "cell_type": "markdown",
   "id": "bf210395",
   "metadata": {},
   "source": [
    "## Codigo postal igual para todos los proveedores"
   ]
  },
  {
   "cell_type": "markdown",
   "id": "b86ae721",
   "metadata": {},
   "source": [
    "Se identifican dos proveedores con mismo codigo postal, se sugiere preguntar al equipo de expertos si en efecto este valor es correcto."
   ]
  },
  {
   "cell_type": "code",
   "execution_count": 424,
   "id": "2815d4ab",
   "metadata": {
    "scrolled": true
   },
   "outputs": [
    {
     "name": "stdout",
     "output_type": "stream",
     "text": [
      "+------+-------------+-----+\n",
      "|Nombre|Codigo_postal|count|\n",
      "+------+-------------+-----+\n",
      "|      |        94101|    2|\n",
      "+------+-------------+-----+\n",
      "\n"
     ]
    },
    {
     "data": {
      "text/html": [
       "<div>\n",
       "<style scoped>\n",
       "    .dataframe tbody tr th:only-of-type {\n",
       "        vertical-align: middle;\n",
       "    }\n",
       "\n",
       "    .dataframe tbody tr th {\n",
       "        vertical-align: top;\n",
       "    }\n",
       "\n",
       "    .dataframe thead th {\n",
       "        text-align: right;\n",
       "    }\n",
       "</style>\n",
       "<table border=\"1\" class=\"dataframe\">\n",
       "  <thead>\n",
       "    <tr style=\"text-align: right;\">\n",
       "      <th></th>\n",
       "      <th>ID_proveedor_T</th>\n",
       "      <th>Nombre</th>\n",
       "      <th>Categoria</th>\n",
       "      <th>Contacto_principal</th>\n",
       "      <th>Referencia</th>\n",
       "      <th>Dias_pago</th>\n",
       "      <th>Codigo_postal</th>\n",
       "    </tr>\n",
       "  </thead>\n",
       "  <tbody>\n",
       "    <tr>\n",
       "      <th>0</th>\n",
       "      <td>3</td>\n",
       "      <td></td>\n",
       "      <td>servicios de mensajeria</td>\n",
       "      <td>Kerstin Parn</td>\n",
       "      <td>209340283</td>\n",
       "      <td>30.0</td>\n",
       "      <td>94101</td>\n",
       "    </tr>\n",
       "    <tr>\n",
       "      <th>1</th>\n",
       "      <td>13</td>\n",
       "      <td></td>\n",
       "      <td>servicios financieros</td>\n",
       "      <td>Hubert Helms</td>\n",
       "      <td>028034202</td>\n",
       "      <td>7.0</td>\n",
       "      <td>94101</td>\n",
       "    </tr>\n",
       "  </tbody>\n",
       "</table>\n",
       "</div>"
      ],
      "text/plain": [
       "   ID_proveedor_T Nombre                Categoria Contacto_principal  \\\n",
       "0               3         servicios de mensajeria       Kerstin Parn   \n",
       "1              13           servicios financieros       Hubert Helms   \n",
       "\n",
       "  Referencia  Dias_pago  Codigo_postal  \n",
       "0  209340283       30.0          94101  \n",
       "1  028034202        7.0          94101  "
      ]
     },
     "execution_count": 424,
     "metadata": {},
     "output_type": "execute_result"
    }
   ],
   "source": [
    "duplicados = df_p \\\n",
    "    .select(['Nombre', 'Codigo_postal']) \\\n",
    "    .groupby(['Nombre', 'Codigo_postal']) \\\n",
    "    .count() \\\n",
    "    .where('count > 1') \\\n",
    "    .sort('count', ascending=False) \\\n",
    "    .show()\n",
    "\n",
    "p_duplicados=df_p.select(['Nombre'])\n",
    "df_p.filter(df_p['Codigo_postal']==94101).toPandas()"
   ]
  },
  {
   "cell_type": "markdown",
   "id": "e18d631e",
   "metadata": {},
   "source": [
    "## Cantidades negativas significan salidas de productos del inventario"
   ]
  },
  {
   "cell_type": "markdown",
   "id": "5170f057",
   "metadata": {},
   "source": [
    "Se valida si hay cantidades negativas de proveedores o positivas de clientes, efectivamente la regla se cumple"
   ]
  },
  {
   "cell_type": "code",
   "execution_count": 425,
   "id": "486b5b00",
   "metadata": {
    "scrolled": false
   },
   "outputs": [
    {
     "name": "stdout",
     "output_type": "stream",
     "text": [
      "+----------+-----------+---------+-----------------+----------------+--------+\n",
      "|ProductoID|ProveedorID|ClienteID|TipoTransaccionID|FechaTransaccion|Cantidad|\n",
      "+----------+-----------+---------+-----------------+----------------+--------+\n",
      "+----------+-----------+---------+-----------------+----------------+--------+\n",
      "\n",
      "+----------+-----------+---------+-----------------+----------------+--------+\n",
      "|ProductoID|ProveedorID|ClienteID|TipoTransaccionID|FechaTransaccion|Cantidad|\n",
      "+----------+-----------+---------+-----------------+----------------+--------+\n",
      "+----------+-----------+---------+-----------------+----------------+--------+\n",
      "\n"
     ]
    }
   ],
   "source": [
    "proveedores_negativos = df_m.filter((col('Cantidad') <= 0) & (col('ProveedorID') >= 0))\n",
    "clientes_negativos = df_m.filter((col('Cantidad') >= 0) & (col('ClienteID') > 0))\n",
    "proveedores_negativos.show()\n",
    "clientes_negativos.show()"
   ]
  },
  {
   "cell_type": "markdown",
   "id": "9debee17",
   "metadata": {},
   "source": [
    "## Creacion de valores para Tabla Fecha"
   ]
  },
  {
   "cell_type": "code",
   "execution_count": 426,
   "id": "ff532475",
   "metadata": {
    "scrolled": false
   },
   "outputs": [
    {
     "name": "stdout",
     "output_type": "stream",
     "text": [
      "+--------+----------+---+---+----+-----------------+\n",
      "|ID_Fecha|     Fecha|Dia|mes|Anio|Numero_semana_ISO|\n",
      "+--------+----------+---+---+----+-----------------+\n",
      "|20140120|2014-01-20| 20| 01|2014|                4|\n",
      "|20140128|2014-01-28| 28| 01|2014|                5|\n",
      "|20140128|2014-01-28| 28| 01|2014|                5|\n",
      "|20140128|2014-01-28| 28| 01|2014|                5|\n",
      "|20140128|2014-01-28| 28| 01|2014|                5|\n",
      "|20140201|2014-02-01| 01| 02|2014|                5|\n",
      "|20140201|2014-02-01| 01| 02|2014|                5|\n",
      "|20140325|2014-03-25| 25| 03|2014|               13|\n",
      "|20140325|2014-03-25| 25| 03|2014|               13|\n",
      "|20140325|2014-03-25| 25| 03|2014|               13|\n",
      "|20140325|2014-03-25| 25| 03|2014|               13|\n",
      "|20140325|2014-03-25| 25| 03|2014|               13|\n",
      "|20140325|2014-03-25| 25| 03|2014|               13|\n",
      "|20140325|2014-03-25| 25| 03|2014|               13|\n",
      "|20140325|2014-03-25| 25| 03|2014|               13|\n",
      "|20140325|2014-03-25| 25| 03|2014|               13|\n",
      "|20140325|2014-03-25| 25| 03|2014|               13|\n",
      "|20140325|2014-03-25| 25| 03|2014|               13|\n",
      "|20140325|2014-03-25| 25| 03|2014|               13|\n",
      "|20140325|2014-03-25| 25| 03|2014|               13|\n",
      "+--------+----------+---+---+----+-----------------+\n",
      "only showing top 20 rows\n",
      "\n"
     ]
    }
   ],
   "source": [
    "fechas_unicas=df_m.select('FechaTransaccion')\n",
    "fechas_unicas = fechas_unicas.withColumnRenamed(\"FechaTransaccion\", \"Fecha\")\n",
    "fechas_unicas = fechas_unicas.withColumn('ID_Fecha', date_format('Fecha', 'yyyyMMdd'))\n",
    "fechas_unicas = fechas_unicas.drop('Fecha')\n",
    "borrar_duplicados(fechas_unicas)\n",
    "fechas_unicas = fechas_unicas.withColumn(\"Fecha\", f.to_date(\"ID_Fecha\", \"yyyyMMdd\"))\n",
    "fechas_unicas = fechas_unicas.withColumn('Dia', date_format('Fecha', 'dd'))\n",
    "fechas_unicas = fechas_unicas.withColumn('mes', date_format('Fecha', 'MM'))\n",
    "fechas_unicas = fechas_unicas.withColumn('Anio', date_format('Fecha', 'yyyy'))\n",
    "fechas_unicas = fechas_unicas.withColumn('Numero_semana_ISO', weekofyear('Fecha'))\n",
    "fechas_unicas.show()"
   ]
  },
  {
   "cell_type": "markdown",
   "id": "4293a792",
   "metadata": {},
   "source": [
    "# Carga"
   ]
  },
  {
   "cell_type": "markdown",
   "id": "99b2642a",
   "metadata": {},
   "source": [
    "## Generando y cargando tabla Fecha"
   ]
  },
  {
   "cell_type": "markdown",
   "id": "b347e3b0",
   "metadata": {},
   "source": [
    "Se diseña base de datos"
   ]
  },
  {
   "cell_type": "code",
   "execution_count": 445,
   "id": "4d8798cd",
   "metadata": {},
   "outputs": [],
   "source": [
    "df_f = fechas_unicas.distinct()"
   ]
  },
  {
   "cell_type": "markdown",
   "id": "52ad1e7a",
   "metadata": {},
   "source": [
    "Se carga BDD"
   ]
  },
  {
   "cell_type": "code",
   "execution_count": 446,
   "id": "6d73d6a0",
   "metadata": {},
   "outputs": [],
   "source": [
    "guardar_db(db_connection_string,df_f,F_EST, db_user, db_psswd)\n"
   ]
  },
  {
   "cell_type": "markdown",
   "id": "02aefe33",
   "metadata": {},
   "source": [
    "## Generando y cargando tabla Proveedores"
   ]
  },
  {
   "cell_type": "markdown",
   "id": "bf336c59",
   "metadata": {},
   "source": [
    "Se diseña base de datos"
   ]
  },
  {
   "cell_type": "code",
   "execution_count": 447,
   "id": "b0179520",
   "metadata": {
    "scrolled": false
   },
   "outputs": [
    {
     "name": "stdout",
     "output_type": "stream",
     "text": [
      "+--------------+--------------------+--------------------+------------------+-----------+---------+-------------+\n",
      "|ID_proveedor_T|              Nombre|           Categoria|Contacto_principal| Referencia|Dias_pago|Codigo_postal|\n",
      "+--------------+--------------------+--------------------+------------------+-----------+---------+-------------+\n",
      "|             1| A Datum Corporation| productos novedosos|        Reio Kabin|    AA20384|     14.0|        46077|\n",
      "|             2|       Contoso, Ltd.| productos novedosos|   Hanna Mihhailov|   B2084020|      7.0|        98253|\n",
      "|             3|Consolidated Mess...|servicios de mens...|      Kerstin Parn|  209340283|     30.0|        94101|\n",
      "|             4|      Fabrikam, Inc.|                ropa|       Bill Lawson|     293092|     30.0|        40351|\n",
      "|             5|Graphic Design In...| productos novedosos|        Penny Buck|   08803922|     14.0|        64847|\n",
      "|             6| Humongous Insurance|servicios de seguros|Madelaine  Cartier|  082420938|     14.0|        37770|\n",
      "|             7|       Litware, Inc.|            embalaje|     Elias Myllari|  BC0280982|     30.0|        95245|\n",
      "|             8|  Lucerne Publishing| productos novedosos|       Prem Prabhu|JQ082304802|     30.0|        37659|\n",
      "|             9|      Nod Publishers| productos novedosos|      Marcos Costa| GL08029802|      7.0|        27906|\n",
      "|            10|Northwind Electri...|            juguetes|   Eliza Soderberg|  ML0300202|     30.0|         7860|\n",
      "|            11|       Trey Research|servicios de mark...|      Donald Jones|  082304822|      7.0|        57543|\n",
      "|            12|   The Phone Company| productos novedosos|           Hai Dam|  237408032|     30.0|        56732|\n",
      "|            13|      Woodgrove Bank|servicios financi...|      Hubert Helms|  028034202|      7.0|        94101|\n",
      "+--------------+--------------------+--------------------+------------------+-----------+---------+-------------+\n",
      "\n"
     ]
    }
   ],
   "source": [
    "df_p.show()"
   ]
  },
  {
   "cell_type": "markdown",
   "id": "e39304f3",
   "metadata": {},
   "source": [
    "Se carga BDD"
   ]
  },
  {
   "cell_type": "code",
   "execution_count": 448,
   "id": "0b5deb56",
   "metadata": {},
   "outputs": [],
   "source": [
    "guardar_db(db_connection_string,df_p,P_EST, db_user, db_psswd)\n"
   ]
  },
  {
   "cell_type": "markdown",
   "id": "4db2affe",
   "metadata": {},
   "source": [
    "## Generando y cargando tabla TipoTransaccion"
   ]
  },
  {
   "cell_type": "markdown",
   "id": "a113d6b1",
   "metadata": {},
   "source": [
    "Se diseña base de datos"
   ]
  },
  {
   "cell_type": "code",
   "execution_count": 449,
   "id": "be4fa799",
   "metadata": {
    "scrolled": true
   },
   "outputs": [
    {
     "name": "stdout",
     "output_type": "stream",
     "text": [
      "+---------------------+--------------------+\n",
      "|ID_Tipo_transaccion_T|                Tipo|\n",
      "+---------------------+--------------------+\n",
      "|                    2|Customer Credit Note|\n",
      "|                    3|Customer Payment ...|\n",
      "|                    4|     Customer Refund|\n",
      "|                    5|    Supplier Invoice|\n",
      "|                    6|Supplier Credit Note|\n",
      "|                    7|Supplier Payment ...|\n",
      "|                    8|     Supplier Refund|\n",
      "|                    9|      Stock Transfer|\n",
      "|                   10|         Stock Issue|\n",
      "|                   11|       Stock Receipt|\n",
      "|                   12|Stock Adjustment ...|\n",
      "|                   13|     Customer Contra|\n",
      "+---------------------+--------------------+\n",
      "\n"
     ]
    }
   ],
   "source": [
    "df_tt.show()"
   ]
  },
  {
   "cell_type": "markdown",
   "id": "282b4728",
   "metadata": {},
   "source": [
    "Se carga BDD"
   ]
  },
  {
   "cell_type": "code",
   "execution_count": 450,
   "id": "9a2ba1d6",
   "metadata": {},
   "outputs": [],
   "source": [
    "guardar_db(db_connection_string,df_tt,TT_EST, db_user, db_psswd)\n"
   ]
  },
  {
   "cell_type": "markdown",
   "id": "8edcb05b",
   "metadata": {},
   "source": [
    "## Generando y cargando tabla Hecho_Movimiento"
   ]
  },
  {
   "cell_type": "markdown",
   "id": "b45819a0",
   "metadata": {},
   "source": [
    "Se diseña base de datos"
   ]
  },
  {
   "cell_type": "code",
   "execution_count": 454,
   "id": "3d053123",
   "metadata": {
    "scrolled": true
   },
   "outputs": [
    {
     "name": "stdout",
     "output_type": "stream",
     "text": [
      "+-------------+--------------+------------+---------------------+----------------+--------+\n",
      "|ID_Producto_T|ID_Proveedor_T|ID_Cliente_T|ID_Tipo_Transaccion_T|FechaTransaccion|Cantidad|\n",
      "+-------------+--------------+------------+---------------------+----------------+--------+\n",
      "|          108|              |       185.0|                   10|      2014-01-20|   -10.0|\n",
      "|          162|              |       176.0|                   10|      2014-01-28|   -10.0|\n",
      "|          216|              |       474.0|                   10|      2014-01-28|   -10.0|\n",
      "|           22|              |       901.0|                   10|      2014-01-28|   -10.0|\n",
      "|           25|              |       926.0|                   10|      2014-01-28|   -10.0|\n",
      "|           14|              |       444.0|                   10|      2014-02-01|   -10.0|\n",
      "|           75|              |       168.0|                   10|      2014-02-01|   -10.0|\n",
      "|           20|              |       802.0|                   10|      2014-03-25|   -10.0|\n",
      "|           65|              |       975.0|                   10|      2014-03-25|   -10.0|\n",
      "|          130|              |       487.0|                   10|      2014-03-25|   -10.0|\n",
      "|          171|              |       129.0|                   10|      2014-03-25|   -10.0|\n",
      "|          118|              |       129.0|                   10|      2014-03-25|   -10.0|\n",
      "|          168|              |       802.0|                   10|      2014-03-25|   -10.0|\n",
      "|           52|              |        88.0|                   10|      2014-03-25|   -10.0|\n",
      "|          131|              |       591.0|                   10|      2014-03-25|   -10.0|\n",
      "|          171|              |       420.0|                   10|      2014-03-25|   -10.0|\n",
      "|          105|              |       433.0|                   10|      2014-03-25|   -10.0|\n",
      "|          112|              |      1027.0|                   10|      2014-03-25|   -10.0|\n",
      "|          170|              |       593.0|                   10|      2014-03-25|   -10.0|\n",
      "|          132|              |       601.0|                   10|      2014-03-25|   -10.0|\n",
      "+-------------+--------------+------------+---------------------+----------------+--------+\n",
      "only showing top 20 rows\n",
      "\n"
     ]
    }
   ],
   "source": [
    "df_m = df_m.withColumnRenamed(\"ID_Producto_DWH\", \"ID_Producto_T\")\n",
    "df_m = df_m.withColumnRenamed(\"ID_Proveedor_DWH\", \"ID_Proveedor_T\")\n",
    "df_m = df_m.withColumnRenamed(\"ID_Cliente_DWH\", \"ID_Cliente_T\")\n",
    "df_m = df_m.withColumnRenamed(\"ID_Tipo_Transaccion_DWH\", \"ID_Tipo_Transaccion_T\")\n",
    "\n",
    "df_m.show()"
   ]
  },
  {
   "cell_type": "code",
   "execution_count": 455,
   "id": "eb648233",
   "metadata": {},
   "outputs": [],
   "source": [
    "#Fechas\n",
    "query=f'(SELECT ID_Fecha, Fecha FROM {F_EST}) AS dataset'\n",
    "df_E_F=obtener_dataframe_de_bd(db_connection_string,query,db_user,db_psswd)\n",
    "df_m = df_m.withColumn('ID_Fecha', when(df_E_F['ID_Fecha'] == df_m['FechaTransaccion'], df_E_F['ID_Fecha']).otherwise(''))"
   ]
  },
  {
   "cell_type": "code",
   "execution_count": 456,
   "id": "15c619ee",
   "metadata": {},
   "outputs": [],
   "source": [
    "#Proveedores\n",
    "query=f'(SELECT ID_proveedor_DWH, ID_proveedor_T FROM {P_EST}) AS dataset'\n",
    "df_E_P=obtener_dataframe_de_bd(db_connection_string,query,db_user,db_psswd)\n",
    "df_m = df_m.withColumn('ID_proveedor_DWH', when(df_E_F['ID_Fecha'] == df_m['FechaTransaccion'], df_E_F['ID_Fecha']).otherwise(''))"
   ]
  },
  {
   "cell_type": "code",
   "execution_count": 457,
   "id": "4c99dd92",
   "metadata": {},
   "outputs": [],
   "source": [
    "#TipoTransaccion\n",
    "query=f'(SELECT ID_Tipo_transaccion_T, ID_Tipo_transaccion_DWH FROM {TT_EST}) AS dataset'\n",
    "df_E_P=obtener_dataframe_de_bd(db_connection_string,query,db_user,db_psswd)"
   ]
  },
  {
   "cell_type": "markdown",
   "id": "fc861e73",
   "metadata": {},
   "source": [
    "Se carga BDD"
   ]
  },
  {
   "cell_type": "code",
   "execution_count": 443,
   "id": "a1564771",
   "metadata": {},
   "outputs": [],
   "source": [
    "guardar_db(db_connection_string,df_m,HM_EST, db_user, db_psswd)\n"
   ]
  },
  {
   "cell_type": "code",
   "execution_count": null,
   "id": "1f603bdc",
   "metadata": {},
   "outputs": [],
   "source": []
  }
 ],
 "metadata": {
  "kernelspec": {
   "display_name": "Python 3 (ipykernel)",
   "language": "python",
   "name": "python3"
  },
  "language_info": {
   "codemirror_mode": {
    "name": "ipython",
    "version": 3
   },
   "file_extension": ".py",
   "mimetype": "text/x-python",
   "name": "python",
   "nbconvert_exporter": "python",
   "pygments_lexer": "ipython3",
   "version": "3.7.13"
  }
 },
 "nbformat": 4,
 "nbformat_minor": 5
}
